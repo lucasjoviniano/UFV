{
 "cells": [
  {
   "cell_type": "code",
   "execution_count": 1,
   "id": "141262b9-d4a6-4e4a-86ac-b16abade7a8c",
   "metadata": {},
   "outputs": [],
   "source": [
    "import pandas as pd\n",
    "import numpy as np\n",
    "import scipy.stats as st\n",
    "import statsmodels.api as sm\n",
    "import matplotlib.pyplot as plt\n",
    "import seaborn as sns\n",
    "\n",
    "sns.set_style(\"whitegrid\")\n",
    "\n",
    "def plot_errorbars(arg, x, **kws):\n",
    "    np.random.seed(sum(map(ord, \"error_bars\")))\n",
    "    f, axs = plt.subplots(2, figsize=(7, 2), sharex=True, layout=\"tight\")\n",
    "    sns.pointplot(x=x, errorbar=arg, **kws, capsize=.3, ax=axs[0])\n",
    "    sns.stripplot(x=x, jitter=.3, ax=axs[1])"
   ]
  },
  {
   "cell_type": "markdown",
   "id": "d85dd40d-4be5-420b-8a9e-3b64e6551713",
   "metadata": {},
   "source": [
    "# 1 - Medidas de Velocidade"
   ]
  },
  {
   "cell_type": "code",
   "execution_count": 2,
   "id": "c1cf0287-28cb-4360-bfbb-41b5aca80944",
   "metadata": {},
   "outputs": [],
   "source": [
    "data = pd.read_csv('measures.csv')"
   ]
  },
  {
   "cell_type": "code",
   "execution_count": 3,
   "id": "a6bc9636-2160-4386-81a1-ff2bb7c5b318",
   "metadata": {},
   "outputs": [
    {
     "name": "stdout",
     "output_type": "stream",
     "text": [
      "57\n"
     ]
    }
   ],
   "source": [
    "df = data[(data.Service == 'Speedtest') & (data.Network == 'Claro Brazil')]\n",
    "print(len(df.index))"
   ]
  },
  {
   "cell_type": "markdown",
   "id": "9d87ff1d-46b6-43c8-89f5-1d7579886554",
   "metadata": {},
   "source": [
    "## Download"
   ]
  },
  {
   "cell_type": "code",
   "execution_count": 4,
   "id": "faf92d14-b4b1-449f-bbe7-8d5b62332214",
   "metadata": {},
   "outputs": [
    {
     "data": {
      "text/plain": [
       "count     57.000000\n",
       "mean     320.203994\n",
       "std       70.197036\n",
       "min      117.919965\n",
       "25%      274.923588\n",
       "50%      329.808163\n",
       "75%      381.975509\n",
       "max      426.511815\n",
       "Name: Download, dtype: float64"
      ]
     },
     "execution_count": 4,
     "metadata": {},
     "output_type": "execute_result"
    }
   ],
   "source": [
    "df['Download'].describe()"
   ]
  },
  {
   "cell_type": "code",
   "execution_count": 5,
   "id": "20acdb18-f49a-4994-9f55-d06b021f2a48",
   "metadata": {},
   "outputs": [
    {
     "name": "stdout",
     "output_type": "stream",
     "text": [
      "Median:  329.8081631233671\n"
     ]
    }
   ],
   "source": [
    "print(\"Median: \", df['Download'].median())"
   ]
  },
  {
   "cell_type": "code",
   "execution_count": 6,
   "id": "75727f30-9663-4be2-b110-7005b61a66dc",
   "metadata": {},
   "outputs": [
    {
     "name": "stdout",
     "output_type": "stream",
     "text": [
      "Intervalo de Confiança com Distribuição Normal\n"
     ]
    }
   ],
   "source": [
    "print(\"Intervalo de Confiança com Distribuição Normal\")\n",
    "norm_interval_download = st.norm.interval(confidence=0.95, loc=df['Download'].mean(), scale=st.sem(df['Download']))"
   ]
  },
  {
   "cell_type": "code",
   "execution_count": 7,
   "id": "dff99ba3-5acc-42b8-b1d3-c82dab122b98",
   "metadata": {},
   "outputs": [
    {
     "name": "stdout",
     "output_type": "stream",
     "text": [
      "Intervalo de Confiança sem Distribuição Normal\n"
     ]
    },
    {
     "data": {
      "text/plain": [
       "(307.45033904741365, 360.35203686692967)"
      ]
     },
     "execution_count": 7,
     "metadata": {},
     "output_type": "execute_result"
    }
   ],
   "source": [
    "print(\"Intervalo de Confiança sem Distribuição Normal\")\n",
    "data_down = df.sample(n = 20, random_state = 8)\n",
    "non_norm_interval_download = st.t.interval(confidence=0.95, df=len(data_down.index), loc=data_down['Download'].mean(), scale=st.sem(data_down['Download']))\n",
    "non_norm_interval_download"
   ]
  },
  {
   "cell_type": "code",
   "execution_count": 8,
   "id": "e989e918-00cb-4d7d-be94-9fd5ccfcae94",
   "metadata": {},
   "outputs": [
    {
     "data": {
      "text/plain": [
       "ShapiroResult(statistic=0.9431411027908325, pvalue=0.009721919894218445)"
      ]
     },
     "execution_count": 8,
     "metadata": {},
     "output_type": "execute_result"
    }
   ],
   "source": [
    "st.shapiro(df['Download'])"
   ]
  },
  {
   "cell_type": "markdown",
   "id": "f3fdfdcc-911d-45c2-ab4d-3b65283776b0",
   "metadata": {},
   "source": [
    "Dados **não** possuem distibuição normal"
   ]
  },
  {
   "cell_type": "code",
   "execution_count": 9,
   "id": "8e44b7d4-1599-4ee0-b35c-94aaff80bdae",
   "metadata": {},
   "outputs": [
    {
     "data": {
      "text/plain": [
       "<AxesSubplot: >"
      ]
     },
     "execution_count": 9,
     "metadata": {},
     "output_type": "execute_result"
    },
    {
     "data": {
      "image/png": "[encoded data removed]",
      "text/plain": [
       "<Figure size 640x480 with 1 Axes>"
      ]
     },
     "metadata": {},
     "output_type": "display_data"
    }
   ],
   "source": [
    "sns.stripplot(x=df['Download'].to_numpy(), jitter=.3)"
   ]
  },
  {
   "cell_type": "markdown",
   "id": "7e9dda9d-7fbe-4ca2-bba5-c0dfeefaac01",
   "metadata": {},
   "source": [
    "## Upload"
   ]
  },
  {
   "cell_type": "code",
   "execution_count": 10,
   "id": "34e9f528-0698-4c60-96ad-3d26a4906f88",
   "metadata": {},
   "outputs": [
    {
     "data": {
      "text/plain": [
       "count     57.000000\n",
       "mean     199.613875\n",
       "std       47.735347\n",
       "min       35.613755\n",
       "25%      179.671899\n",
       "50%      216.526671\n",
       "75%      235.022191\n",
       "max      275.290724\n",
       "Name: Upload, dtype: float64"
      ]
     },
     "execution_count": 10,
     "metadata": {},
     "output_type": "execute_result"
    }
   ],
   "source": [
    "df['Upload'].describe()"
   ]
  },
  {
   "cell_type": "code",
   "execution_count": 11,
   "id": "041096d7-5eca-49a7-b6f2-0d0b87dcaced",
   "metadata": {},
   "outputs": [
    {
     "name": "stdout",
     "output_type": "stream",
     "text": [
      "Median:  216.526670875809\n"
     ]
    }
   ],
   "source": [
    "print(\"Median: \", df['Upload'].median())"
   ]
  },
  {
   "cell_type": "code",
   "execution_count": 12,
   "id": "8babe54a-1b1d-4880-b05b-6b32ca3265b3",
   "metadata": {},
   "outputs": [
    {
     "name": "stdout",
     "output_type": "stream",
     "text": [
      "Intervalo de Confiança com Distribuição Normal\n"
     ]
    },
    {
     "data": {
      "text/plain": [
       "(187.2216080026211, 212.00614136752216)"
      ]
     },
     "execution_count": 12,
     "metadata": {},
     "output_type": "execute_result"
    }
   ],
   "source": [
    "print(\"Intervalo de Confiança com Distribuição Normal\")\n",
    "st.norm.interval(confidence=0.95, loc=df['Upload'].mean(), scale=st.sem(df['Upload']))"
   ]
  },
  {
   "cell_type": "code",
   "execution_count": 13,
   "id": "a2bd4d0c-12c4-4175-87a4-02aa2b3896dd",
   "metadata": {},
   "outputs": [
    {
     "name": "stdout",
     "output_type": "stream",
     "text": [
      "Intervalo de Confiança sem Distribuição Normal\n"
     ]
    },
    {
     "data": {
      "text/plain": [
       "(158.83894712456708, 208.34152570010656)"
      ]
     },
     "execution_count": 13,
     "metadata": {},
     "output_type": "execute_result"
    }
   ],
   "source": [
    "print(\"Intervalo de Confiança sem Distribuição Normal\")\n",
    "data_up = df.sample(n = 20, random_state = 8)\n",
    "st.t.interval(confidence=0.95, df=len(data_down.index), loc=data_up['Upload'].mean(), scale=st.sem(data_up['Upload']))"
   ]
  },
  {
   "cell_type": "code",
   "execution_count": 14,
   "id": "206584fb-6944-4c78-baea-43234e92b96d",
   "metadata": {},
   "outputs": [
    {
     "name": "stdout",
     "output_type": "stream",
     "text": [
      "Abaixo do Instantâneo (Download):  3\n",
      "Abaixo do Instantâneo (Upload):  1\n"
     ]
    }
   ],
   "source": [
    "min_down_inst = 200\n",
    "min_down_med = 400\n",
    "\n",
    "min_up_inst = 120\n",
    "min_up_med = 240\n",
    "\n",
    "print(\"Abaixo do Instantâneo (Download): \", len(df[(df.Download < min_down_inst)].index))\n",
    "print(\"Abaixo do Instantâneo (Upload): \", len(df[(df.Download < min_up_inst)].index))"
   ]
  },
  {
   "cell_type": "code",
   "execution_count": 15,
   "id": "70eeb43d-d7a6-44f6-88a8-410e2e8488b1",
   "metadata": {},
   "outputs": [
    {
     "data": {
      "text/plain": [
       "ShapiroResult(statistic=0.8922117352485657, pvalue=0.00010304114402970299)"
      ]
     },
     "execution_count": 15,
     "metadata": {},
     "output_type": "execute_result"
    }
   ],
   "source": [
    "# Teste de Normalidade\n",
    "st.shapiro(df['Upload'])"
   ]
  },
  {
   "cell_type": "markdown",
   "id": "5b34a41c-5fc1-490f-aa5f-14aa690ac98d",
   "metadata": {},
   "source": [
    "Dados **não** possuem distibuição normal"
   ]
  },
  {
   "cell_type": "code",
   "execution_count": 16,
   "id": "9d43ee5c-cc50-4b0b-842d-28ea60cd3ed2",
   "metadata": {},
   "outputs": [
    {
     "data": {
      "text/plain": [
       "<AxesSubplot: >"
      ]
     },
     "execution_count": 16,
     "metadata": {},
     "output_type": "execute_result"
    },
    {
     "data": {
      "image/png": "[encoded data removed]",
      "text/plain": [
       "<Figure size 640x480 with 1 Axes>"
      ]
     },
     "metadata": {},
     "output_type": "display_data"
    }
   ],
   "source": [
    "sns.stripplot(x=df['Upload'].to_numpy(), jitter=.3)"
   ]
  },
  {
   "cell_type": "code",
   "execution_count": 50,
   "id": "2ac62def-062b-4a28-b441-ddd2f790ef1e",
   "metadata": {},
   "outputs": [
    {
     "data": {
      "text/plain": [
       "Text(0.5, 1.0, 'Velocidades de Upload')"
      ]
     },
     "execution_count": 50,
     "metadata": {},
     "output_type": "execute_result"
    },
    {
     "data": {
      "image/png": "[encoded data removed]",
      "text/plain": [
       "<Figure size 1600x600 with 2 Axes>"
      ]
     },
     "metadata": {},
     "output_type": "display_data"
    }
   ],
   "source": [
    "fig, axes = plt.subplots(ncols=2, nrows=1, sharex=True, figsize=(4*4, 2*3))\n",
    "\n",
    "sns.stripplot(x=df['Download'].to_numpy(), jitter=.3, ax=axes[0])\n",
    "sns.stripplot(x=df['Upload'].to_numpy(), jitter=.3, ax=axes[1])\n",
    "\n",
    "axes[0].set_title(\"Velocidades de Download\")\n",
    "axes[1].set_title(\"Velocidades de Upload\")"
   ]
  },
  {
   "cell_type": "markdown",
   "id": "c7dac4bf-5803-42cb-af9b-80d613675f03",
   "metadata": {},
   "source": [
    "# 2 - Comparando Medidores\n",
    "\n",
    "Utilizando: Speedtest e Brasil Banda Larga"
   ]
  },
  {
   "cell_type": "code",
   "execution_count": 17,
   "id": "4d4b744c-5482-4821-947b-4899e665151f",
   "metadata": {},
   "outputs": [],
   "source": [
    "def compare_mean(first, second):\n",
    "    diffs = second.to_numpy() - first.to_numpy()\n",
    "    d_mean = np.mean(diffs)\n",
    "    d_std = np.std(diffs)\n",
    "    d_int = st.t.interval(confidence=0.90, df=len(diffs)-1, loc=d_mean, scale=st.sem(diffs))\n",
    "    print(\"%f <= u <= %f\" %(d_int[0], d_int[1]))"
   ]
  },
  {
   "cell_type": "code",
   "execution_count": 18,
   "id": "d56135b7-46f6-4553-8ab6-ab5a6d01eaed",
   "metadata": {},
   "outputs": [],
   "source": [
    "second = pd.read_csv('measures.csv')"
   ]
  },
  {
   "cell_type": "code",
   "execution_count": 19,
   "id": "1d475a50-172c-4286-a20c-93f79e997cbc",
   "metadata": {},
   "outputs": [
    {
     "data": {
      "text/plain": [
       "count      57.000000\n",
       "mean      510.175439\n",
       "std       144.660825\n",
       "min       290.000000\n",
       "25%       420.000000\n",
       "50%       500.000000\n",
       "75%       560.000000\n",
       "max      1300.000000\n",
       "Name: Download, dtype: float64"
      ]
     },
     "execution_count": 19,
     "metadata": {},
     "output_type": "execute_result"
    }
   ],
   "source": [
    "# Fast\n",
    "\n",
    "fast = second[(second.Service == 'Fast') & (second.Network == 'Claro Brazil')]\n",
    "fast['Download'].describe()"
   ]
  },
  {
   "cell_type": "code",
   "execution_count": 20,
   "id": "c74e7180-9706-4980-bed3-36a3835a4048",
   "metadata": {},
   "outputs": [
    {
     "data": {
      "text/plain": [
       "500.0"
      ]
     },
     "execution_count": 20,
     "metadata": {},
     "output_type": "execute_result"
    }
   ],
   "source": [
    "fast['Download'].median()"
   ]
  },
  {
   "cell_type": "code",
   "execution_count": 21,
   "id": "76241b57-bb30-4e66-9996-f677cf1e0f5c",
   "metadata": {},
   "outputs": [
    {
     "data": {
      "text/plain": [
       "count     57.000000\n",
       "mean     350.811579\n",
       "std      101.499899\n",
       "min      114.350000\n",
       "25%      291.620000\n",
       "50%      402.520000\n",
       "75%      422.680000\n",
       "max      486.200000\n",
       "Name: Download, dtype: float64"
      ]
     },
     "execution_count": 21,
     "metadata": {},
     "output_type": "execute_result"
    }
   ],
   "source": [
    "bbl = second[(second.Service == 'Brasil Banda Larga') & (second.Network == 'Claro Brazil')]\n",
    "bbl['Download'].describe()"
   ]
  },
  {
   "cell_type": "code",
   "execution_count": 22,
   "id": "10374082-70fa-43fe-9287-88879bc0948d",
   "metadata": {},
   "outputs": [
    {
     "data": {
      "text/plain": [
       "402.52"
      ]
     },
     "execution_count": 22,
     "metadata": {},
     "output_type": "execute_result"
    }
   ],
   "source": [
    "bbl['Download'].median()"
   ]
  },
  {
   "cell_type": "code",
   "execution_count": 23,
   "id": "0d9f8feb-e6e9-479d-a679-e3d5ca1475a6",
   "metadata": {},
   "outputs": [
    {
     "data": {
      "text/plain": [
       "<AxesSubplot: >"
      ]
     },
     "execution_count": 23,
     "metadata": {},
     "output_type": "execute_result"
    },
    {
     "data": {
      "image/png": "[encoded data removed]",
      "text/plain": [
       "<Figure size 640x480 with 1 Axes>"
      ]
     },
     "metadata": {},
     "output_type": "display_data"
    }
   ],
   "source": [
    "dt = pd.DataFrame({'Speedtest': df['Download'], 'Fast': fast['Download'], 'Brasil Banda Larga': bbl['Download']})\n",
    "sns.boxplot(data=dt,dodge = True)"
   ]
  },
  {
   "cell_type": "markdown",
   "id": "16935fe2-3a02-47a8-9959-fde7bebef600",
   "metadata": {},
   "source": [
    "## Download"
   ]
  },
  {
   "cell_type": "code",
   "execution_count": 24,
   "id": "8462958d-4b12-4d1e-8e5a-274b3d7b701a",
   "metadata": {},
   "outputs": [
    {
     "name": "stdout",
     "output_type": "stream",
     "text": [
      "6.596951 <= u <= 54.618219\n"
     ]
    }
   ],
   "source": [
    "second = second[(second.Service == 'Brasil Banda Larga') & (second.Network == 'Claro Brazil')]\n",
    "compare_mean(df['Download'], second['Download'])"
   ]
  },
  {
   "cell_type": "markdown",
   "id": "dbd87983-3b7e-47ff-abed-b17764d83f3c",
   "metadata": {},
   "source": [
    "## Upload"
   ]
  },
  {
   "cell_type": "code",
   "execution_count": 25,
   "id": "3d388a24-1140-44ce-b86e-6caac431d29e",
   "metadata": {},
   "outputs": [
    {
     "name": "stdout",
     "output_type": "stream",
     "text": [
      "-104.185294 <= u <= -80.102455\n"
     ]
    }
   ],
   "source": [
    "compare_mean(df['Upload'], second['Upload'])"
   ]
  },
  {
   "cell_type": "code",
   "execution_count": 26,
   "id": "c5bcbd10-1f08-4e6e-9de4-d6bd8cd39a39",
   "metadata": {},
   "outputs": [
    {
     "data": {
      "text/plain": [
       "KruskalResult(statistic=77.40610364519385, pvalue=1.554097137913673e-17)"
      ]
     },
     "execution_count": 26,
     "metadata": {},
     "output_type": "execute_result"
    }
   ],
   "source": [
    "st.kruskal(df['Download'], fast['Download'], bbl['Download'])"
   ]
  },
  {
   "cell_type": "markdown",
   "id": "07bda00e-1925-43c9-90c8-c772ba9f9060",
   "metadata": {},
   "source": [
    "# 4 - Comparando Provedores"
   ]
  },
  {
   "cell_type": "code",
   "execution_count": 27,
   "id": "1e1effef-94b1-4d3f-91fe-5cd900a10986",
   "metadata": {},
   "outputs": [
    {
     "data": {
      "text/plain": [
       "count    16.00000\n",
       "mean     78.63500\n",
       "std       6.05801\n",
       "min      63.33000\n",
       "25%      75.08000\n",
       "50%      81.95000\n",
       "75%      82.71500\n",
       "max      83.86000\n",
       "Name: Download, dtype: float64"
      ]
     },
     "execution_count": 27,
     "metadata": {},
     "output_type": "execute_result"
    }
   ],
   "source": [
    "other = pd.read_csv('data.csv')\n",
    "other['Download'].describe()"
   ]
  },
  {
   "cell_type": "markdown",
   "id": "3354787c-bf68-433e-8072-d6dec09e4555",
   "metadata": {},
   "source": [
    "Como as variâncias são muito diferentes, é improvável que a variância das populações sejam iguais"
   ]
  },
  {
   "cell_type": "code",
   "execution_count": 28,
   "id": "e5c5d89b-47a8-4df5-8223-5f9fdceb8076",
   "metadata": {},
   "outputs": [
    {
     "data": {
      "text/plain": [
       "ShapiroResult(statistic=0.7830498218536377, pvalue=0.0016362109454348683)"
      ]
     },
     "execution_count": 28,
     "metadata": {},
     "output_type": "execute_result"
    }
   ],
   "source": [
    "st.shapiro(other['Download'])"
   ]
  },
  {
   "cell_type": "markdown",
   "id": "2b2d60b2-85e0-4c52-887c-866178223e7e",
   "metadata": {},
   "source": [
    "Dados **não** possuem distibuição normal"
   ]
  },
  {
   "cell_type": "code",
   "execution_count": 29,
   "id": "a8136bc0-ccfd-43ce-82a6-bbf63814958c",
   "metadata": {},
   "outputs": [
    {
     "data": {
      "text/plain": [
       "ShapiroResult(statistic=0.9876708388328552, pvalue=0.9970650672912598)"
      ]
     },
     "execution_count": 29,
     "metadata": {},
     "output_type": "execute_result"
    }
   ],
   "source": [
    "st.shapiro(other['Upload'])"
   ]
  },
  {
   "cell_type": "markdown",
   "id": "f6a6c6a4-ee02-4b87-9c4e-35570c9f4618",
   "metadata": {},
   "source": [
    "Dados possuem distibuição normal"
   ]
  },
  {
   "cell_type": "markdown",
   "id": "2a76e79c-7d60-4c97-b988-94f2204fb8d2",
   "metadata": {},
   "source": [
    "## Download"
   ]
  },
  {
   "cell_type": "code",
   "execution_count": 30,
   "id": "ed423ff4-3b99-4a73-8b78-1c37fb0aea04",
   "metadata": {},
   "outputs": [
    {
     "data": {
      "text/plain": [
       "RanksumsResult(statistic=6.080540516514381, pvalue=0.9999999994011096)"
      ]
     },
     "execution_count": 30,
     "metadata": {},
     "output_type": "execute_result"
    }
   ],
   "source": [
    "st.ranksums(df['Download'], other['Download'], alternative='less')"
   ]
  },
  {
   "cell_type": "markdown",
   "id": "dc300f09-41fc-4cd4-a652-2933a4398c0a",
   "metadata": {},
   "source": [
    "## Upload"
   ]
  },
  {
   "cell_type": "code",
   "execution_count": 31,
   "id": "5ffacca7-4e6d-447c-a5c9-d758f2cfbee1",
   "metadata": {},
   "outputs": [
    {
     "name": "stdout",
     "output_type": "stream",
     "text": [
      "(187.2216080026211, 212.00614136752216)\n",
      "(79.79326699628896, 82.65298300371106)\n"
     ]
    }
   ],
   "source": [
    "md = df['Upload'].mean()\n",
    "mo = other['Upload'].mean()\n",
    "\n",
    "idf = st.norm.interval(confidence=0.95, loc=df['Upload'].mean(), scale=st.sem(df['Upload']))\n",
    "iot = st.norm.interval(confidence=0.95, loc=other['Upload'].mean(), scale=st.sem(other['Upload']))\n",
    "\n",
    "print(idf)\n",
    "print(iot)"
   ]
  },
  {
   "cell_type": "markdown",
   "id": "f7606ba6-f7c7-42e1-85c1-85692aeb84a0",
   "metadata": {},
   "source": [
    "Pelos intervalos é possível notar que não há sobreposição"
   ]
  },
  {
   "cell_type": "code",
   "execution_count": 47,
   "id": "73985ed5-1d73-4082-be44-fc5a725ea61e",
   "metadata": {},
   "outputs": [
    {
     "data": {
      "image/png": "[encoded data removed]",
      "text/plain": [
       "<Figure size 1600x600 with 2 Axes>"
      ]
     },
     "metadata": {},
     "output_type": "display_data"
    }
   ],
   "source": [
    "a = df['Download'].to_numpy()\n",
    "b = other['Download'].to_numpy()\n",
    "\n",
    "fig, axes = plt.subplots(ncols=2, nrows=1, sharex=True, figsize=(4*4, 2*3))\n",
    "\n",
    "\n",
    "sm.qqplot(a, line='s', ax=axes[0])\n",
    "sm.qqplot(b, line='s', ax=axes[1])\n",
    "\n",
    "axes[0].set_title(\"Q-Q Plot Claro\")\n",
    "axes[1].set_title(\"Q-Q Plot Outro\")\n",
    "\n",
    "plt.show()"
   ]
  },
  {
   "cell_type": "code",
   "execution_count": null,
   "id": "a8c70133-5aea-459f-bd22-98f478f908fc",
   "metadata": {},
   "outputs": [],
   "source": []
  }
 ],
 "metadata": {
  "kernelspec": {
   "display_name": "Python 3 (ipykernel)",
   "language": "python",
   "name": "python3"
  },
  "language_info": {
   "codemirror_mode": {
    "name": "ipython",
    "version": 3
   },
   "file_extension": ".py",
   "mimetype": "text/x-python",
   "name": "python",
   "nbconvert_exporter": "python",
   "pygments_lexer": "ipython3",
   "version": "3.10.8"
  }
 },
 "nbformat": 4,
 "nbformat_minor": 5
}
