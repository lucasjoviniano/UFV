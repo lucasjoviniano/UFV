{
 "cells": [
  {
   "cell_type": "code",
   "execution_count": 17,
   "id": "d9b2bdfe-b13d-4b80-862b-24e6e2843b7d",
   "metadata": {},
   "outputs": [],
   "source": [
    "import pandas as pd\n",
    "import statistics as st"
   ]
  },
  {
   "cell_type": "code",
   "execution_count": 25,
   "id": "b37ff491-70b4-4f30-aa67-90b60156c852",
   "metadata": {},
   "outputs": [
    {
     "data": {
      "text/plain": [
       "[3, 7, 29937, 70063, 16.0, 19.83788221736657]"
      ]
     },
     "execution_count": 25,
     "metadata": {},
     "output_type": "execute_result"
    }
   ],
   "source": [
    "df = pd.read_csv(\"azar-100000.csv\")\n",
    "first = df['winner'].str.contains('primeiro')\n",
    "second = df['winner'].str.contains('segundo')\n",
    "\n",
    "one = [3, 7, len(df[first]), len(df[second]), st.median(df['rounds']), st.stdev(df['rounds'])]\n",
    "one"
   ]
  },
  {
   "cell_type": "code",
   "execution_count": 24,
   "id": "570cf3ef-c126-476e-8df6-98a8d8780dbf",
   "metadata": {},
   "outputs": [
    {
     "data": {
      "text/plain": [
       "[30, 70, 29972, 70028, 1463.0, 2019.5591259605362]"
      ]
     },
     "execution_count": 24,
     "metadata": {},
     "output_type": "execute_result"
    }
   ],
   "source": [
    "df = pd.read_csv(\"azar-100000.csv\")\n",
    "first = df['winner'].str.contains('primeiro')\n",
    "second = df['winner'].str.contains('segundo')\n",
    "\n",
    "two = [30, 70, len(df[first]), len(df[second]), st.median(df['rounds']), st.stdev(df['rounds'])]\n",
    "two"
   ]
  },
  {
   "cell_type": "code",
   "execution_count": 26,
   "id": "81b679ad-3097-49f6-bb4b-d499b50c6d5c",
   "metadata": {},
   "outputs": [
    {
     "data": {
      "text/plain": [
       "[10, 10, 49970, 50030, 77.0, 81.74865775542769]"
      ]
     },
     "execution_count": 26,
     "metadata": {},
     "output_type": "execute_result"
    }
   ],
   "source": [
    "df = pd.read_csv(\"azar-100000.csv\")\n",
    "first = df['winner'].str.contains('primeiro')\n",
    "second = df['winner'].str.contains('segundo')\n",
    "\n",
    "three = [10, 10, len(df[first]), len(df[second]), st.median(df['rounds']), st.stdev(df['rounds'])]\n",
    "three"
   ]
  }
 ],
 "metadata": {
  "kernelspec": {
   "display_name": "Python 3 (ipykernel)",
   "language": "python",
   "name": "python3"
  },
  "language_info": {
   "codemirror_mode": {
    "name": "ipython",
    "version": 3
   },
   "file_extension": ".py",
   "mimetype": "text/x-python",
   "name": "python",
   "nbconvert_exporter": "python",
   "pygments_lexer": "ipython3",
   "version": "3.10.8"
  }
 },
 "nbformat": 4,
 "nbformat_minor": 5
}
